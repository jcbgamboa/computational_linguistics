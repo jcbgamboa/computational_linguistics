{
 "cells": [
  {
   "cell_type": "markdown",
   "metadata": {},
   "source": [
    "# Intro to Python"
   ]
  },
  {
   "cell_type": "markdown",
   "metadata": {},
   "source": [
    "Computer languages can be either compiled or interpreted. Compiled languages, like C, C++ or Java, require the code to be input to a compiler, which reads the code and outputs a binary file. This binary file is then either executed directly by the operating system (as is the case of C) or executed by another program (as is the case of Java, that uses the `java` program).\n",
    "\n",
    "Interpreted languages are different. Each line of code is given separately to an interpreter. The interpreter reads the line and executes the code. If the line is not finished for some reason (say, it opened a parenthesis, but never closed it), the interpreter normally considers the next line as a continuation of the previous line.\n",
    "\n",
    "Compiled languages are useful for several reasons. The compiler (the program that transforms the code into a program) has access to the entire code file, and therefore can sometimes reorder the execution of some lines so that they are executed more efficiently by the computer. In practical terms, this means that compiled codes are potentially faster when compared to interpreted languages.\n",
    "\n",
    "Compiled codes are also \"smart\" and sometimes might just strip parts of the code. For example, consider the following line:\n",
    "\n",
    "```Java\n",
    "    if (y == 0 && y == 1) {\n",
    "        print(\"what?!?!\")\n",
    "    }\n",
    "```"
   ]
  },
  {
   "cell_type": "markdown",
   "metadata": {},
   "source": [
    "In the example above, the variable `y` is tested twice: the program tests whether y is 0 and y is 1. Of course, y can't be both 0 and 1 at the same time. So that `print` statement will just never run. Compilers often notice this kind of trivial bad statements and just strip them from the code.\n",
    "\n",
    "Since compilers see the entire file, it is not necessarily expected that they will run the code file from the beginning to the end. Instead, they normally have an \"entry point\" from which the code start running. In C, this is a function called `int main()`; in Java, it is that function name that you always have to remember: `public static void main(String args[])`.\n",
    "\n",
    "Interpreted languages are different. They don't have access to the entire file all at once, and they don't generate a new binary file. They just run the code that is given to them. This has several implications."
   ]
  },
  {
   "cell_type": "markdown",
   "metadata": {
    "collapsed": true
   },
   "source": [
    "The first implication is precisely that the code is run from the first line on. Whatever you put in your first line of code, is the first thing to be executed in your program.\n",
    "\n",
    "Another implication is that this means you can embed this language in nice applications like this one, where you can have an interpreter running in the background, waiting for lines to run, and a lot of text around it.\n",
    "\n",
    "For example, let's try running the following lines of code........"
   ]
  },
  {
   "cell_type": "code",
   "execution_count": 1,
   "metadata": {},
   "outputs": [],
   "source": [
    "# Declares the variable `a` with value 10\n",
    "a = 10"
   ]
  },
  {
   "cell_type": "code",
   "execution_count": 2,
   "metadata": {},
   "outputs": [
    {
     "data": {
      "text/plain": [
       "10"
      ]
     },
     "execution_count": 2,
     "metadata": {},
     "output_type": "execute_result"
    }
   ],
   "source": [
    "# Accesses the value of `a`\n",
    "a"
   ]
  },
  {
   "cell_type": "markdown",
   "metadata": {},
   "source": [
    "In the first line, we stored the value `10` in the variable `a`; in the second line, we ask for the value of `a`, and the interpreter returns `10`. This shows that the interpreter keeps the state of the program between the several lines of our code."
   ]
  },
  {
   "cell_type": "markdown",
   "metadata": {},
   "source": [
    "## Variables\n",
    "\n",
    "In Python, differently from Java, there is no need to declare a new variable before you start using it. Whenever you try to assign a value to a variable that still doesn't exist, Python will create it.\n",
    "\n",
    "But I hear you ask: \"but what is the type of the new variable, then?\". The type will be whichever is the type of the element you are trying to assign to the new variable. Let's see an example"
   ]
  },
  {
   "cell_type": "code",
   "execution_count": 3,
   "metadata": {},
   "outputs": [
    {
     "data": {
      "text/plain": [
       "int"
      ]
     },
     "execution_count": 3,
     "metadata": {},
     "output_type": "execute_result"
    }
   ],
   "source": [
    "a = 10\n",
    "\n",
    "# The function `type` returns the type of any variable given as a parameter\n",
    "# Here, it will return an integer...\n",
    "type(a)"
   ]
  },
  {
   "cell_type": "code",
   "execution_count": 4,
   "metadata": {},
   "outputs": [
    {
     "data": {
      "text/plain": [
       "str"
      ]
     },
     "execution_count": 4,
     "metadata": {},
     "output_type": "execute_result"
    }
   ],
   "source": [
    "a = 'my string'\n",
    "\n",
    "# But now `a` became a string...\n",
    "type(a)"
   ]
  },
  {
   "cell_type": "markdown",
   "metadata": {},
   "source": [
    "Notice that Python did not complain about the fact that, after created as an integer, I tried to assign to `a` a value of the type `string`. Python smoothly converted `a` into a string. This might seem like an advantage at first, but often leads to problems, when you expected your variable to be of a certain type and it is not.\n",
    "\n",
    "Python also allows you to assign several variables at the same line:"
   ]
  },
  {
   "cell_type": "code",
   "execution_count": 5,
   "metadata": {},
   "outputs": [],
   "source": [
    "a, b = 10, 15"
   ]
  },
  {
   "cell_type": "code",
   "execution_count": 6,
   "metadata": {},
   "outputs": [
    {
     "data": {
      "text/plain": [
       "10"
      ]
     },
     "execution_count": 6,
     "metadata": {},
     "output_type": "execute_result"
    }
   ],
   "source": [
    "a"
   ]
  },
  {
   "cell_type": "code",
   "execution_count": 7,
   "metadata": {},
   "outputs": [
    {
     "data": {
      "text/plain": [
       "15"
      ]
     },
     "execution_count": 7,
     "metadata": {},
     "output_type": "execute_result"
    }
   ],
   "source": [
    "b"
   ]
  },
  {
   "cell_type": "markdown",
   "metadata": {},
   "source": [
    "This way, swapping the values of two variables has a very elegant solution:"
   ]
  },
  {
   "cell_type": "code",
   "execution_count": 8,
   "metadata": {},
   "outputs": [],
   "source": [
    "# Swaps the values of `a` and `b`\n",
    "b, a = a, b"
   ]
  },
  {
   "cell_type": "code",
   "execution_count": 9,
   "metadata": {},
   "outputs": [
    {
     "data": {
      "text/plain": [
       "15"
      ]
     },
     "execution_count": 9,
     "metadata": {},
     "output_type": "execute_result"
    }
   ],
   "source": [
    "a"
   ]
  },
  {
   "cell_type": "code",
   "execution_count": 10,
   "metadata": {},
   "outputs": [
    {
     "data": {
      "text/plain": [
       "10"
      ]
     },
     "execution_count": 10,
     "metadata": {},
     "output_type": "execute_result"
    }
   ],
   "source": [
    "b"
   ]
  },
  {
   "cell_type": "markdown",
   "metadata": {},
   "source": [
    "As you might have noticed, there is no need for a `;` at the end of your lines."
   ]
  },
  {
   "cell_type": "markdown",
   "metadata": {
    "collapsed": true
   },
   "source": [
    "## Operators\n",
    "\n",
    "So far, when talking about variables, we saw that you use the character `=` to mean something like \"store the value at the right into the variable at the left\". This is the so-called `assignment` operator.\n",
    "\n",
    "Most Python operators are quite intuitive if you already used other programming languages. For example, the basic mathematical operations are performed with `+`, `-`, `*` and `/`. If you want only the integer part of your division, you can use `//`, and if you want the rest of the division, you can use `%`. Finally, you can power a number using `**`. For example:"
   ]
  },
  {
   "cell_type": "code",
   "execution_count": 11,
   "metadata": {},
   "outputs": [
    {
     "data": {
      "text/plain": [
       "13"
      ]
     },
     "execution_count": 11,
     "metadata": {},
     "output_type": "execute_result"
    }
   ],
   "source": [
    "10 + 3"
   ]
  },
  {
   "cell_type": "code",
   "execution_count": 12,
   "metadata": {},
   "outputs": [
    {
     "data": {
      "text/plain": [
       "7"
      ]
     },
     "execution_count": 12,
     "metadata": {},
     "output_type": "execute_result"
    }
   ],
   "source": [
    "10 - 3"
   ]
  },
  {
   "cell_type": "code",
   "execution_count": 13,
   "metadata": {},
   "outputs": [
    {
     "data": {
      "text/plain": [
       "30"
      ]
     },
     "execution_count": 13,
     "metadata": {},
     "output_type": "execute_result"
    }
   ],
   "source": [
    "10 * 3"
   ]
  },
  {
   "cell_type": "code",
   "execution_count": 14,
   "metadata": {},
   "outputs": [
    {
     "data": {
      "text/plain": [
       "3.3333333333333335"
      ]
     },
     "execution_count": 14,
     "metadata": {},
     "output_type": "execute_result"
    }
   ],
   "source": [
    "10 / 3"
   ]
  },
  {
   "cell_type": "code",
   "execution_count": 15,
   "metadata": {},
   "outputs": [
    {
     "data": {
      "text/plain": [
       "3"
      ]
     },
     "execution_count": 15,
     "metadata": {},
     "output_type": "execute_result"
    }
   ],
   "source": [
    "10 // 3"
   ]
  },
  {
   "cell_type": "code",
   "execution_count": 16,
   "metadata": {},
   "outputs": [
    {
     "data": {
      "text/plain": [
       "1"
      ]
     },
     "execution_count": 16,
     "metadata": {},
     "output_type": "execute_result"
    }
   ],
   "source": [
    "10 % 3"
   ]
  },
  {
   "cell_type": "code",
   "execution_count": 17,
   "metadata": {},
   "outputs": [
    {
     "data": {
      "text/plain": [
       "1000"
      ]
     },
     "execution_count": 17,
     "metadata": {},
     "output_type": "execute_result"
    }
   ],
   "source": [
    "10 ** 3"
   ]
  },
  {
   "cell_type": "markdown",
   "metadata": {},
   "source": [
    "Of course, you can use these operators just like in any normal mathematical formula, and store them into a variable:"
   ]
  },
  {
   "cell_type": "code",
   "execution_count": 18,
   "metadata": {},
   "outputs": [
    {
     "data": {
      "text/plain": [
       "500.0"
      ]
     },
     "execution_count": 18,
     "metadata": {},
     "output_type": "execute_result"
    }
   ],
   "source": [
    "a = (10 ** 3) / 2\n",
    "a"
   ]
  },
  {
   "cell_type": "markdown",
   "metadata": {},
   "source": [
    "Notice here that I used parenthesis to enforce a certain order in the evaluation of the expression. This way, I can express that I want whatever is inside the parenthesis to be executed first, and only then I want the division by `2` to happen. Finally, the entire value is assigned to `a`, and in the second line I ask for the value of `a`."
   ]
  },
  {
   "cell_type": "markdown",
   "metadata": {},
   "source": [
    "## Data Structures\n",
    "\n",
    "Programs are normally written so that humans do not have to perform the same actions again and again repetitively. Programming languages normally have data structures that make it easy to write programs for precisely this purpose.\n",
    "\n",
    "If you know Java, then you might have seen that Java has the `Array` data structure, that stores several elements of the same type. So, for example, an element of the type `int[3]` stores three integers.\n",
    "\n",
    "Python has several such data structures. Here we will cover the three most commonly used ones: tuples, lists and dictionaries.\n",
    "\n",
    "### Tuples\n",
    "\n",
    "A tuple is an element that contains any number of elements of any types. Declaring a tuple is as simple as:"
   ]
  },
  {
   "cell_type": "code",
   "execution_count": 19,
   "metadata": {},
   "outputs": [
    {
     "data": {
      "text/plain": [
       "(1, 'my', 45, 'tuple')"
      ]
     },
     "execution_count": 19,
     "metadata": {},
     "output_type": "execute_result"
    }
   ],
   "source": [
    "# This tuple contains 4 elements:\n",
    "#   * The integer 1\n",
    "#   * The string 'my'\n",
    "#   * The integer 45\n",
    "#   * The string 'tuple'\n",
    "a = (1, 'my', 45, 'tuple')\n",
    "a"
   ]
  },
  {
   "cell_type": "markdown",
   "metadata": {},
   "source": [
    "Of course, you can call the function `type` on a tuple too..."
   ]
  },
  {
   "cell_type": "code",
   "execution_count": 20,
   "metadata": {},
   "outputs": [
    {
     "data": {
      "text/plain": [
       "tuple"
      ]
     },
     "execution_count": 20,
     "metadata": {},
     "output_type": "execute_result"
    }
   ],
   "source": [
    "# This will show that the type of `a` is a tuple\n",
    "type(a)"
   ]
  },
  {
   "cell_type": "markdown",
   "metadata": {},
   "source": [
    "You can also create an empty tuple using the same `()` syntax:"
   ]
  },
  {
   "cell_type": "code",
   "execution_count": 21,
   "metadata": {},
   "outputs": [],
   "source": [
    "empty_tuple = ()"
   ]
  },
  {
   "cell_type": "markdown",
   "metadata": {},
   "source": [
    "Just like those infamous Java arrays, they can be accessed using the indexing operator `[]`:"
   ]
  },
  {
   "cell_type": "code",
   "execution_count": 22,
   "metadata": {},
   "outputs": [
    {
     "data": {
      "text/plain": [
       "1"
      ]
     },
     "execution_count": 22,
     "metadata": {},
     "output_type": "execute_result"
    }
   ],
   "source": [
    "a[0]"
   ]
  },
  {
   "cell_type": "code",
   "execution_count": 23,
   "metadata": {},
   "outputs": [
    {
     "data": {
      "text/plain": [
       "'my'"
      ]
     },
     "execution_count": 23,
     "metadata": {},
     "output_type": "execute_result"
    }
   ],
   "source": [
    "a[1]"
   ]
  },
  {
   "cell_type": "code",
   "execution_count": 24,
   "metadata": {},
   "outputs": [
    {
     "data": {
      "text/plain": [
       "45"
      ]
     },
     "execution_count": 24,
     "metadata": {},
     "output_type": "execute_result"
    }
   ],
   "source": [
    "a[2]"
   ]
  },
  {
   "cell_type": "code",
   "execution_count": 25,
   "metadata": {},
   "outputs": [
    {
     "data": {
      "text/plain": [
       "'tuple'"
      ]
     },
     "execution_count": 25,
     "metadata": {},
     "output_type": "execute_result"
    }
   ],
   "source": [
    "a[3]"
   ]
  },
  {
   "cell_type": "markdown",
   "metadata": {},
   "source": [
    "But notice that you can't access an index that is bigger than the length of the tuple:"
   ]
  },
  {
   "cell_type": "code",
   "execution_count": 26,
   "metadata": {},
   "outputs": [
    {
     "ename": "IndexError",
     "evalue": "tuple index out of range",
     "output_type": "error",
     "traceback": [
      "\u001b[0;31m---------------------------------------------------------------------------\u001b[0m",
      "\u001b[0;31mIndexError\u001b[0m                                Traceback (most recent call last)",
      "\u001b[0;32m<ipython-input-26-3a6179a4e245>\u001b[0m in \u001b[0;36m<module>\u001b[0;34m()\u001b[0m\n\u001b[1;32m      1\u001b[0m \u001b[0;31m# This will raise an \"Index out-of-bounds\" error\u001b[0m\u001b[0;34m\u001b[0m\u001b[0;34m\u001b[0m\u001b[0m\n\u001b[0;32m----> 2\u001b[0;31m \u001b[0ma\u001b[0m\u001b[0;34m[\u001b[0m\u001b[0;36m10\u001b[0m\u001b[0;34m]\u001b[0m\u001b[0;34m\u001b[0m\u001b[0m\n\u001b[0m",
      "\u001b[0;31mIndexError\u001b[0m: tuple index out of range"
     ]
    }
   ],
   "source": [
    "# This will raise an \"Index out-of-bounds\" error\n",
    "a[10]"
   ]
  },
  {
   "cell_type": "markdown",
   "metadata": {},
   "source": [
    "Also notice that once created, tuples are immutable. They never allow their values to be changed. Values inside a tuple can't be reassigned:"
   ]
  },
  {
   "cell_type": "code",
   "execution_count": 27,
   "metadata": {},
   "outputs": [
    {
     "ename": "TypeError",
     "evalue": "'tuple' object does not support item assignment",
     "output_type": "error",
     "traceback": [
      "\u001b[0;31m---------------------------------------------------------------------------\u001b[0m",
      "\u001b[0;31mTypeError\u001b[0m                                 Traceback (most recent call last)",
      "\u001b[0;32m<ipython-input-27-7c3d565bb4af>\u001b[0m in \u001b[0;36m<module>\u001b[0;34m()\u001b[0m\n\u001b[1;32m      1\u001b[0m \u001b[0;31m# This will raise an error, because you just can't assign new values to an already existing tuple\u001b[0m\u001b[0;34m\u001b[0m\u001b[0;34m\u001b[0m\u001b[0m\n\u001b[0;32m----> 2\u001b[0;31m \u001b[0ma\u001b[0m\u001b[0;34m[\u001b[0m\u001b[0;36m1\u001b[0m\u001b[0;34m]\u001b[0m \u001b[0;34m=\u001b[0m \u001b[0;36m10\u001b[0m\u001b[0;34m\u001b[0m\u001b[0m\n\u001b[0m",
      "\u001b[0;31mTypeError\u001b[0m: 'tuple' object does not support item assignment"
     ]
    }
   ],
   "source": [
    "# This will raise an error, because you just can't assign new values to an already existing tuple\n",
    "a[1] = 10"
   ]
  },
  {
   "cell_type": "markdown",
   "metadata": {},
   "source": [
    "Still, you can create a new tuple by \"adding\" two tuples:"
   ]
  },
  {
   "cell_type": "code",
   "execution_count": 28,
   "metadata": {},
   "outputs": [
    {
     "data": {
      "text/plain": [
       "(1, 2, 3, 4, 5, 6)"
      ]
     },
     "execution_count": 28,
     "metadata": {},
     "output_type": "execute_result"
    }
   ],
   "source": [
    "(1,2,3) + (4,5,6)"
   ]
  },
  {
   "cell_type": "markdown",
   "metadata": {},
   "source": [
    "### Lists\n",
    "\n",
    "So... if you do want a non-immutable data structure, then you probably want a list. Lists are super versatile: they are the bread and butter of your every day Python programming. You can either create a list by converting a previous tuple into a list..."
   ]
  },
  {
   "cell_type": "code",
   "execution_count": 29,
   "metadata": {},
   "outputs": [
    {
     "data": {
      "text/plain": [
       "[1, 'my', 45, 'tuple']"
      ]
     },
     "execution_count": 29,
     "metadata": {},
     "output_type": "execute_result"
    }
   ],
   "source": [
    "# This will convert the tuple `a` (from the previous section) into a list\n",
    "list(a)"
   ]
  },
  {
   "cell_type": "markdown",
   "metadata": {},
   "source": [
    "... or you can create a new list using the following syntax:"
   ]
  },
  {
   "cell_type": "code",
   "execution_count": 30,
   "metadata": {},
   "outputs": [],
   "source": [
    "a = [47, 'your', 59, 'list']"
   ]
  },
  {
   "cell_type": "markdown",
   "metadata": {},
   "source": [
    "Of course, you can create an empty list too:"
   ]
  },
  {
   "cell_type": "code",
   "execution_count": 31,
   "metadata": {},
   "outputs": [
    {
     "data": {
      "text/plain": [
       "[]"
      ]
     },
     "execution_count": 31,
     "metadata": {},
     "output_type": "execute_result"
    }
   ],
   "source": [
    "empty_list = []\n",
    "\n",
    "empty_list"
   ]
  },
  {
   "cell_type": "markdown",
   "metadata": {},
   "source": [
    "Notice that you can convert a list back into a tuple if you so want using the `tuple()` function:"
   ]
  },
  {
   "cell_type": "code",
   "execution_count": 32,
   "metadata": {},
   "outputs": [
    {
     "data": {
      "text/plain": [
       "(47, 'your', 59, 'list')"
      ]
     },
     "execution_count": 32,
     "metadata": {},
     "output_type": "execute_result"
    }
   ],
   "source": [
    "tuple(a)"
   ]
  },
  {
   "cell_type": "markdown",
   "metadata": {},
   "source": [
    "Of course, then, you can access the list in the same you could access the tuple:"
   ]
  },
  {
   "cell_type": "code",
   "execution_count": 33,
   "metadata": {},
   "outputs": [
    {
     "data": {
      "text/plain": [
       "47"
      ]
     },
     "execution_count": 33,
     "metadata": {},
     "output_type": "execute_result"
    }
   ],
   "source": [
    "a[0]"
   ]
  },
  {
   "cell_type": "code",
   "execution_count": 34,
   "metadata": {},
   "outputs": [
    {
     "data": {
      "text/plain": [
       "'your'"
      ]
     },
     "execution_count": 34,
     "metadata": {},
     "output_type": "execute_result"
    }
   ],
   "source": [
    "a[1]"
   ]
  },
  {
   "cell_type": "code",
   "execution_count": 35,
   "metadata": {},
   "outputs": [
    {
     "data": {
      "text/plain": [
       "59"
      ]
     },
     "execution_count": 35,
     "metadata": {},
     "output_type": "execute_result"
    }
   ],
   "source": [
    "a[2]"
   ]
  },
  {
   "cell_type": "code",
   "execution_count": 36,
   "metadata": {},
   "outputs": [
    {
     "data": {
      "text/plain": [
       "'list'"
      ]
     },
     "execution_count": 36,
     "metadata": {},
     "output_type": "execute_result"
    }
   ],
   "source": [
    "a[3]"
   ]
  },
  {
   "cell_type": "markdown",
   "metadata": {},
   "source": [
    "But importantly, lists are mutable, so you can assign new values to them:"
   ]
  },
  {
   "cell_type": "code",
   "execution_count": 37,
   "metadata": {},
   "outputs": [
    {
     "data": {
      "text/plain": [
       "[47, 'his', 59, 'list']"
      ]
     },
     "execution_count": 37,
     "metadata": {},
     "output_type": "execute_result"
    }
   ],
   "source": [
    "a[1] = 'his'\n",
    "a"
   ]
  },
  {
   "cell_type": "markdown",
   "metadata": {},
   "source": [
    "But again, just like tuples, for our list of only 4 elements, you can't try to access (or, in this case, assign) a value to an index that is bigger than the length of our list:"
   ]
  },
  {
   "cell_type": "code",
   "execution_count": 38,
   "metadata": {},
   "outputs": [
    {
     "ename": "IndexError",
     "evalue": "list assignment index out of range",
     "output_type": "error",
     "traceback": [
      "\u001b[0;31m---------------------------------------------------------------------------\u001b[0m",
      "\u001b[0;31mIndexError\u001b[0m                                Traceback (most recent call last)",
      "\u001b[0;32m<ipython-input-38-9d7afe8c7ead>\u001b[0m in \u001b[0;36m<module>\u001b[0;34m()\u001b[0m\n\u001b[1;32m      1\u001b[0m \u001b[0;31m# This will raise an \"Index out-of-bounds\" error\u001b[0m\u001b[0;34m\u001b[0m\u001b[0;34m\u001b[0m\u001b[0m\n\u001b[0;32m----> 2\u001b[0;31m \u001b[0ma\u001b[0m\u001b[0;34m[\u001b[0m\u001b[0;36m10\u001b[0m\u001b[0;34m]\u001b[0m \u001b[0;34m=\u001b[0m \u001b[0;34m'blah'\u001b[0m\u001b[0;34m\u001b[0m\u001b[0m\n\u001b[0m\u001b[1;32m      3\u001b[0m \u001b[0ma\u001b[0m\u001b[0;34m\u001b[0m\u001b[0m\n",
      "\u001b[0;31mIndexError\u001b[0m: list assignment index out of range"
     ]
    }
   ],
   "source": [
    "# This will raise an \"Index out-of-bounds\" error\n",
    "a[10] = 'blah'\n",
    "a"
   ]
  },
  {
   "cell_type": "markdown",
   "metadata": {},
   "source": [
    "Again, just like tuples, you can \"add\" two lists"
   ]
  },
  {
   "cell_type": "code",
   "execution_count": 39,
   "metadata": {},
   "outputs": [
    {
     "data": {
      "text/plain": [
       "[1, 2, 3, 4, 5, 6]"
      ]
     },
     "execution_count": 39,
     "metadata": {},
     "output_type": "execute_result"
    }
   ],
   "source": [
    "[1,2,3] + [4,5,6]"
   ]
  },
  {
   "cell_type": "markdown",
   "metadata": {},
   "source": [
    "We will see many useful things that we can with lists once we start talking about loops and string operations. For now, it is important that you know what they are, how to access its members, and how to create them.\n",
    "\n",
    "### Dictionaries\n",
    "\n",
    "Dictionaries are like lists on steroids. To understand why, it probably makes sense to create one:"
   ]
  },
  {
   "cell_type": "code",
   "execution_count": 1,
   "metadata": {},
   "outputs": [],
   "source": [
    "# Creates a new dictionary\n",
    "a = {}\n",
    "\n",
    "# Assigns the value 10 to index 1\n",
    "a[1] = 10"
   ]
  },
  {
   "cell_type": "markdown",
   "metadata": {},
   "source": [
    "Dictionaries create a mapping between an index and a value. The index can be of any type. In the code above, it was an integer (purposefuly to make a parallel with lists/tuples), but you can also use strings:"
   ]
  },
  {
   "cell_type": "code",
   "execution_count": 2,
   "metadata": {},
   "outputs": [],
   "source": [
    "a['blah'] = 11"
   ]
  },
  {
   "cell_type": "markdown",
   "metadata": {},
   "source": [
    "Then, when you try to access the value of a dictionary, it shows each index followed by the value associated with it:"
   ]
  },
  {
   "cell_type": "code",
   "execution_count": 3,
   "metadata": {},
   "outputs": [
    {
     "data": {
      "text/plain": [
       "{1: 10, 'blah': 11}"
      ]
     },
     "execution_count": 3,
     "metadata": {},
     "output_type": "execute_result"
    }
   ],
   "source": [
    "# Dict `a` contains\n",
    "#   * the value 10 associated to the index 1\n",
    "#   * the value 11 associated to the index 'blah'\n",
    "a"
   ]
  },
  {
   "cell_type": "markdown",
   "metadata": {},
   "source": [
    "Differently from tuples and lists, dictionaries do not allow you to use the `+` operator:"
   ]
  },
  {
   "cell_type": "code",
   "execution_count": 4,
   "metadata": {},
   "outputs": [
    {
     "ename": "TypeError",
     "evalue": "unsupported operand type(s) for +: 'dict' and 'dict'",
     "output_type": "error",
     "traceback": [
      "\u001b[0;31m---------------------------------------------------------------------------\u001b[0m",
      "\u001b[0;31mTypeError\u001b[0m                                 Traceback (most recent call last)",
      "\u001b[0;32m<ipython-input-4-ca40fc852a3f>\u001b[0m in \u001b[0;36m<module>\u001b[0;34m\u001b[0m\n\u001b[1;32m      2\u001b[0m \u001b[0;34m\u001b[0m\u001b[0m\n\u001b[1;32m      3\u001b[0m \u001b[0;31m# This will raise an error\u001b[0m\u001b[0;34m\u001b[0m\u001b[0;34m\u001b[0m\u001b[0;34m\u001b[0m\u001b[0m\n\u001b[0;32m----> 4\u001b[0;31m \u001b[0ma\u001b[0m \u001b[0;34m+\u001b[0m \u001b[0mb\u001b[0m\u001b[0;34m\u001b[0m\u001b[0;34m\u001b[0m\u001b[0m\n\u001b[0m",
      "\u001b[0;31mTypeError\u001b[0m: unsupported operand type(s) for +: 'dict' and 'dict'"
     ]
    }
   ],
   "source": [
    "b = {2:30}\n",
    "\n",
    "# This will raise an error\n",
    "a + b"
   ]
  },
  {
   "cell_type": "markdown",
   "metadata": {},
   "source": [
    "However, you can combine two dictionaries by using the `update` method:"
   ]
  },
  {
   "cell_type": "code",
   "execution_count": 5,
   "metadata": {},
   "outputs": [
    {
     "data": {
      "text/plain": [
       "{1: 10, 'blah': 11, 2: 30}"
      ]
     },
     "execution_count": 5,
     "metadata": {},
     "output_type": "execute_result"
    }
   ],
   "source": [
    "# This will update the keys contained in `a` with the ones in `b`\n",
    "a.update(b)\n",
    "a"
   ]
  },
  {
   "cell_type": "markdown",
   "metadata": {},
   "source": [
    "### Finishing remarks on Data Structures\n",
    "\n",
    "All of these data structures (and, actually, also, strings) allow you to know how many elements they have by using the `len()` function:"
   ]
  },
  {
   "cell_type": "code",
   "execution_count": 44,
   "metadata": {},
   "outputs": [
    {
     "data": {
      "text/plain": [
       "3"
      ]
     },
     "execution_count": 44,
     "metadata": {},
     "output_type": "execute_result"
    }
   ],
   "source": [
    "my_tuple = (1,'blah',3)\n",
    "\n",
    "len(my_tuple)"
   ]
  },
  {
   "cell_type": "code",
   "execution_count": 45,
   "metadata": {},
   "outputs": [
    {
     "data": {
      "text/plain": [
       "5"
      ]
     },
     "execution_count": 45,
     "metadata": {},
     "output_type": "execute_result"
    }
   ],
   "source": [
    "my_list = [1,2,'blah',4,5]\n",
    "\n",
    "len(my_list)"
   ]
  },
  {
   "cell_type": "code",
   "execution_count": 46,
   "metadata": {},
   "outputs": [
    {
     "data": {
      "text/plain": [
       "3"
      ]
     },
     "execution_count": 46,
     "metadata": {},
     "output_type": "execute_result"
    }
   ],
   "source": [
    "my_dict = {1:2, 3:4, 'blah':5}\n",
    "\n",
    "len(my_dict)"
   ]
  },
  {
   "cell_type": "markdown",
   "metadata": {},
   "source": [
    "**Exercise**\n",
    "\n",
    "1) Create a list containing two elements corresponding to your first and second name.\n",
    "\n",
    "2) Change the second name into \"Snow\"."
   ]
  },
  {
   "cell_type": "markdown",
   "metadata": {},
   "source": [
    "## If-Statements\n",
    "\n",
    "Programs sometimes are supposed to have selective behavior depending on the state of a certain variable. To check the value of a given variable, you normally use `if`. For example, let's define two variables `p` and `q`, one of which is \"True\" and the other of which is \"False\":"
   ]
  },
  {
   "cell_type": "code",
   "execution_count": 47,
   "metadata": {},
   "outputs": [],
   "source": [
    "p = True\n",
    "q = False"
   ]
  },
  {
   "cell_type": "markdown",
   "metadata": {},
   "source": [
    "Now, additionally, I want to introduce the function `print()`, that prints something onto the screen:"
   ]
  },
  {
   "cell_type": "code",
   "execution_count": 48,
   "metadata": {},
   "outputs": [
    {
     "name": "stdout",
     "output_type": "stream",
     "text": [
      "something\n"
     ]
    }
   ],
   "source": [
    "print('something')"
   ]
  },
  {
   "cell_type": "markdown",
   "metadata": {},
   "source": [
    "Let's say you'd like to print the string \"is true\" only if `p` is True. In that case, you could write an if-statement to make that decision for you. The if-statement in Python goes by the following syntax:\n",
    "\n",
    "```Python\n",
    "if condition:\n",
    "    # do something\n",
    "```\n",
    "\n",
    "**It is important to notice that Python CARES about indentation. It knows what lines are part of you if-statement because of how much \"shifted to the right\" they are. If you write the indentation inconsistently, Python will raise all sorts of errors.**\n",
    "\n",
    "In our case, we could write the following lines of code (which I expect to be quite straightforward to understand):"
   ]
  },
  {
   "cell_type": "code",
   "execution_count": 49,
   "metadata": {},
   "outputs": [
    {
     "name": "stdout",
     "output_type": "stream",
     "text": [
      "is true\n"
     ]
    }
   ],
   "source": [
    "if p:\n",
    "    print('is true')"
   ]
  },
  {
   "cell_type": "markdown",
   "metadata": {},
   "source": [
    "Of course, if we test a condition that is false (for example, our variable `q`), then the program won't print anything:"
   ]
  },
  {
   "cell_type": "code",
   "execution_count": 50,
   "metadata": {},
   "outputs": [],
   "source": [
    "if q:\n",
    "    print('is true')"
   ]
  },
  {
   "cell_type": "markdown",
   "metadata": {},
   "source": [
    "We can use boolean operators to make more complex conditions. In Python, boolean operators are just the words that represent them. For example:"
   ]
  },
  {
   "cell_type": "code",
   "execution_count": 51,
   "metadata": {},
   "outputs": [
    {
     "name": "stdout",
     "output_type": "stream",
     "text": [
      "is true\n"
     ]
    }
   ],
   "source": [
    "if p or q:\n",
    "    print('is true')"
   ]
  },
  {
   "cell_type": "code",
   "execution_count": 52,
   "metadata": {},
   "outputs": [],
   "source": [
    "if p and q:\n",
    "    print('is true')"
   ]
  },
  {
   "cell_type": "code",
   "execution_count": 53,
   "metadata": {},
   "outputs": [],
   "source": [
    "if not p:\n",
    "    print('is true')"
   ]
  },
  {
   "cell_type": "markdown",
   "metadata": {},
   "source": [
    "What if you want to do one thing in one case, and something else in another case? For these types of situations, Python offers the `else` key-word.\n",
    "\n",
    "For example, in a snippet above, the program didn't print anything when we tested the variable `q` (because it is false). But what if we want to test the value of the variable and either print `is true` (if it is true) or `is false` (if it is false)? The `else` key-word is perfect for these kinds of situations:"
   ]
  },
  {
   "cell_type": "code",
   "execution_count": 54,
   "metadata": {},
   "outputs": [
    {
     "name": "stdout",
     "output_type": "stream",
     "text": [
      "is false\n"
     ]
    }
   ],
   "source": [
    "if q:\n",
    "    print('is true')\n",
    "else:\n",
    "    print('is false')"
   ]
  },
  {
   "cell_type": "markdown",
   "metadata": {},
   "source": [
    "If you want to test a condition only after having tested another condition, you might want to create ugly blocks of code that look like this:\n",
    "\n",
    "```Python\n",
    "if condition1:\n",
    "    # do thing A\n",
    "else:\n",
    "    if condition2:\n",
    "        # do thing B\n",
    "    else:\n",
    "        if condition3:\n",
    "            # do thing C\n",
    "                ...\n",
    "```\n",
    "\n",
    "These behemoths do work, and as a beginner you might end up unadevertently writing things like this. You should know, however, that Python provides another keyword that makes things much prettier: the `elif` keyword. Then you can write:\n",
    "\n",
    "```Python\n",
    "if condition1:\n",
    "    # do thing A\n",
    "elif condition2:\n",
    "    # do thing B\n",
    "elif condition3:\n",
    "    # do thing C\n",
    "    ...\n",
    "else:\n",
    "    # do last thing\n",
    "```"
   ]
  },
  {
   "cell_type": "markdown",
   "metadata": {},
   "source": [
    "Finally, you should know that there are several useful operators that you can use \"ask questions\" about your data. For example, let's declare two integer variables and a list:"
   ]
  },
  {
   "cell_type": "code",
   "execution_count": 55,
   "metadata": {},
   "outputs": [],
   "source": [
    "p = 3\n",
    "q = 34\n",
    "r = [11,34,65,77,28]"
   ]
  },
  {
   "cell_type": "markdown",
   "metadata": {},
   "source": [
    "You can check whether the variable `p` is smaller than `q` (it is); whether the variable `p` has the same value as `q` (it doesn't), and even whether `q` is one of the elements in `r` (it is) using quite intuitive operators:"
   ]
  },
  {
   "cell_type": "code",
   "execution_count": 56,
   "metadata": {},
   "outputs": [
    {
     "data": {
      "text/plain": [
       "True"
      ]
     },
     "execution_count": 56,
     "metadata": {},
     "output_type": "execute_result"
    }
   ],
   "source": [
    "# Is p smaller than q?\n",
    "p < q"
   ]
  },
  {
   "cell_type": "code",
   "execution_count": 57,
   "metadata": {},
   "outputs": [
    {
     "data": {
      "text/plain": [
       "False"
      ]
     },
     "execution_count": 57,
     "metadata": {},
     "output_type": "execute_result"
    }
   ],
   "source": [
    "# Is p bigger than q?\n",
    "p > q"
   ]
  },
  {
   "cell_type": "code",
   "execution_count": 58,
   "metadata": {},
   "outputs": [
    {
     "data": {
      "text/plain": [
       "False"
      ]
     },
     "execution_count": 58,
     "metadata": {},
     "output_type": "execute_result"
    }
   ],
   "source": [
    "# Are p and q equal?\n",
    "p == q"
   ]
  },
  {
   "cell_type": "code",
   "execution_count": 59,
   "metadata": {},
   "outputs": [
    {
     "data": {
      "text/plain": [
       "True"
      ]
     },
     "execution_count": 59,
     "metadata": {},
     "output_type": "execute_result"
    }
   ],
   "source": [
    "# Is p smaller or equal than q?\n",
    "# This will return True also if p and q are equal\n",
    "p <= q"
   ]
  },
  {
   "cell_type": "code",
   "execution_count": 60,
   "metadata": {},
   "outputs": [
    {
     "data": {
      "text/plain": [
       "False"
      ]
     },
     "execution_count": 60,
     "metadata": {},
     "output_type": "execute_result"
    }
   ],
   "source": [
    "# Is p bigger or equal than q?\n",
    "# This will return True also if p and q are equal\n",
    "p >= q"
   ]
  },
  {
   "cell_type": "code",
   "execution_count": 61,
   "metadata": {},
   "outputs": [
    {
     "data": {
      "text/plain": [
       "False"
      ]
     },
     "execution_count": 61,
     "metadata": {},
     "output_type": "execute_result"
    }
   ],
   "source": [
    "# Is p one of the elements of the list r?\n",
    "p in r"
   ]
  },
  {
   "cell_type": "code",
   "execution_count": 62,
   "metadata": {},
   "outputs": [
    {
     "data": {
      "text/plain": [
       "True"
      ]
     },
     "execution_count": 62,
     "metadata": {},
     "output_type": "execute_result"
    }
   ],
   "source": [
    "# Is q one of the elements of the list r?\n",
    "q in r"
   ]
  },
  {
   "cell_type": "markdown",
   "metadata": {},
   "source": [
    "Then, you can use these in your if-statements:"
   ]
  },
  {
   "cell_type": "code",
   "execution_count": 63,
   "metadata": {},
   "outputs": [
    {
     "name": "stdout",
     "output_type": "stream",
     "text": [
      "q is one of the elements of r\n"
     ]
    }
   ],
   "source": [
    "if p in r:\n",
    "    print(\"p is one of the elements of r\")\n",
    "elif q in r:\n",
    "    print(\"q is one of the elements of r\")\n",
    "else:\n",
    "    print(\"none were true\")"
   ]
  },
  {
   "cell_type": "markdown",
   "metadata": {},
   "source": [
    "## Loops\n",
    "\n",
    "As discussed before, programming languages are normally used to perform repetitive work that would be boring and error prone if performed by humans. Whenever you want to do something several times, it might be worth to write a loop. You probably already know two or three ways to write loops in other languages. For example, in Java, you can write something like:\n",
    "\n",
    "```Java\n",
    "for (int i = 0; i < 10; i++) {\n",
    "   // do something\n",
    "   System.out(i)\n",
    "}\n",
    "```\n",
    "\n",
    "Or, alternatively, if you don't know how many elements you want to loop through:\n",
    "\n",
    "```Java\n",
    "while (condition) {\n",
    "    // do something\n",
    "    System.out('something')\n",
    "}\n",
    "```\n",
    "\n",
    "I'll refer to the first one as a for-loop and to the second one as a while-loop. I will start with the second one, because it is easier. I should say, however, that you are not likely to use it much, because for-loops are so powerful in Python. A while-loop in Python looks very much like the one in Java:\n",
    "ing like:"
   ]
  },
  {
   "cell_type": "code",
   "execution_count": 64,
   "metadata": {},
   "outputs": [],
   "source": [
    "condition = False\n",
    "\n",
    "# This while loop won't run, because I am setting `condition = False`;\n",
    "# this is just an example so that you can see how the syntax looks like\n",
    "while (condition):\n",
    "    # do something\n",
    "    print('something')"
   ]
  },
  {
   "cell_type": "markdown",
   "metadata": {},
   "source": [
    "In Python, for-loops require a list (this is actually not 100% true; but will do for our purposes. In reality, a for-loop will accept any element that is `iterable`. We won't go into these details here, but Google is your friend). To replicate the behavior of the for-loop above, you could write someth"
   ]
  },
  {
   "cell_type": "code",
   "execution_count": 65,
   "metadata": {},
   "outputs": [
    {
     "name": "stdout",
     "output_type": "stream",
     "text": [
      "0\n",
      "1\n",
      "2\n",
      "3\n",
      "4\n",
      "5\n",
      "6\n",
      "7\n",
      "8\n",
      "9\n"
     ]
    }
   ],
   "source": [
    "for i in [0,1,2,3,4,5,6,7,8,9]:\n",
    "    # do something\n",
    "    print(i)"
   ]
  },
  {
   "cell_type": "markdown",
   "metadata": {},
   "source": [
    "It might get cumbersome to write a list item by item. For example, imagine how annoying it would be if your for-loop were supposed to go through 500 items! Python has an elegant solution for this: the function `range()`. It returns an element that functions as a list when you pass it to a for loop:"
   ]
  },
  {
   "cell_type": "code",
   "execution_count": 66,
   "metadata": {
    "scrolled": true
   },
   "outputs": [
    {
     "data": {
      "text/plain": [
       "range(0, 10)"
      ]
     },
     "execution_count": 66,
     "metadata": {},
     "output_type": "execute_result"
    }
   ],
   "source": [
    "range(10)"
   ]
  },
  {
   "cell_type": "markdown",
   "metadata": {},
   "source": [
    "Now you can write:"
   ]
  },
  {
   "cell_type": "code",
   "execution_count": 67,
   "metadata": {},
   "outputs": [
    {
     "name": "stdout",
     "output_type": "stream",
     "text": [
      "0\n",
      "1\n",
      "2\n",
      "3\n",
      "4\n",
      "5\n",
      "6\n",
      "7\n",
      "8\n",
      "9\n"
     ]
    }
   ],
   "source": [
    "for i in range(10):\n",
    "    print(i)"
   ]
  },
  {
   "cell_type": "markdown",
   "metadata": {},
   "source": [
    "It might be that you don't want to start in 0. In that case, you can call `range()` using two parameters:"
   ]
  },
  {
   "cell_type": "code",
   "execution_count": 68,
   "metadata": {},
   "outputs": [
    {
     "name": "stdout",
     "output_type": "stream",
     "text": [
      "5\n",
      "6\n",
      "7\n",
      "8\n",
      "9\n"
     ]
    }
   ],
   "source": [
    "for i in range(5,10):\n",
    "    print(i)"
   ]
  },
  {
   "cell_type": "markdown",
   "metadata": {},
   "source": [
    "And if you would like, say, to only iterate through every third number, you would need to pass three parameters:"
   ]
  },
  {
   "cell_type": "code",
   "execution_count": 69,
   "metadata": {},
   "outputs": [
    {
     "name": "stdout",
     "output_type": "stream",
     "text": [
      "2\n",
      "5\n",
      "8\n",
      "11\n",
      "14\n",
      "17\n"
     ]
    }
   ],
   "source": [
    "for i in range(2, 20, 3):\n",
    "    print(i)"
   ]
  },
  {
   "cell_type": "markdown",
   "metadata": {},
   "source": [
    "However, if you think a little about it, you will notice that the variable `i` in the for-loops we have seen so far has two meanings. First, it is the value that we are working with at each iteration, the value that we are manipulating, that we want to use to do something. Second, it denotes \"how many iterations have passed\": it is the \"current index\" in our list.\n",
    "\n",
    "To make this point a little clearer, let's try another example. Let's say we want to iterate through the following list, and then print index of each occurrence of the letter \"o\":"
   ]
  },
  {
   "cell_type": "code",
   "execution_count": 2,
   "metadata": {},
   "outputs": [],
   "source": [
    "my_list = ['h', 'e', 'l', 'l', 'o', 'w', 'o', 'r', 'l', 'd']"
   ]
  },
  {
   "cell_type": "markdown",
   "metadata": {},
   "source": [
    "If you write a for-loop to iterate through the list, you won't ever be able to know in which index you are, because we are not using the `range()` function."
   ]
  },
  {
   "cell_type": "code",
   "execution_count": 71,
   "metadata": {},
   "outputs": [
    {
     "name": "stdout",
     "output_type": "stream",
     "text": [
      "h\n",
      "e\n",
      "l\n",
      "l\n",
      "o\n",
      "w\n",
      "o\n",
      "r\n",
      "l\n",
      "d\n"
     ]
    }
   ],
   "source": [
    "for i in my_list:\n",
    "    print (i)"
   ]
  },
  {
   "cell_type": "markdown",
   "metadata": {},
   "source": [
    "At each iteration, Python only gives us access to information about the current value in the list, and not the position of the list in which we are. To solve this problem, Python introduced a function called `enumerate()`, that is used in the following way:"
   ]
  },
  {
   "cell_type": "code",
   "execution_count": 4,
   "metadata": {},
   "outputs": [
    {
     "name": "stdout",
     "output_type": "stream",
     "text": [
      "4\n",
      "6\n"
     ]
    }
   ],
   "source": [
    "for index, i in enumerate(my_list):\n",
    "    if (i == 'o'):\n",
    "        print(index)"
   ]
  },
  {
   "cell_type": "markdown",
   "metadata": {},
   "source": [
    "Now we would have access to the index.\n",
    "\n",
    "**Exercise:** Write the code to print the index of each occurrence of the letter \"o\"."
   ]
  },
  {
   "cell_type": "markdown",
   "metadata": {},
   "source": [
    "## Functions\n",
    "\n",
    "Python provides a set of functions by default that are useful for doing all sorts of things. We have seen a few of them: we used the function `type()` to find the type of a given variable; we used `range()` to generate an input for our for-loops; and we used `print()` to print characters on the screen.\n",
    "\n",
    "When we discussed about for-loops, we saw that they were a way to repeat a given task several times for different inputs. Functions are another way of avoiding repetitions in your code. Let's say that we have the following three lists:"
   ]
  },
  {
   "cell_type": "code",
   "execution_count": 3,
   "metadata": {},
   "outputs": [],
   "source": [
    "a = [1,2,3,4,5]\n",
    "b = [6,7,8,9,10,11]\n",
    "c = [11,12,13,14,15,16,17]\n",
    "d = [16,17,18,19,20,21,22,23]\n",
    "e = [21,22,23,24,25,26,27,28,29]"
   ]
  },
  {
   "cell_type": "markdown",
   "metadata": {},
   "source": [
    "Now let's say that (for some reason) we wanted to add 10 to the value of each one of these lists. We could use for-loops to do it:"
   ]
  },
  {
   "cell_type": "code",
   "execution_count": 4,
   "metadata": {},
   "outputs": [],
   "source": [
    "# len(a) will return the length of `a`, which is 5.\n",
    "# range(len(a)) --> range(5) --> [0,1,2,3,4]\n",
    "\n",
    "for i in range(len(a)):\n",
    "    a[i] = a[i] + 10\n",
    "\n",
    "for i in range(len(b)):\n",
    "    b[i] = b[i] + 10\n",
    "\n",
    "for i in range(len(c)):\n",
    "    c[i] = c[i] + 10\n",
    "\n",
    "for i in range(len(d)):\n",
    "    d[i] = d[i] + 10\n",
    "\n",
    "for i in range(len(e)):\n",
    "    e[i] = e[i] + 10"
   ]
  },
  {
   "cell_type": "code",
   "execution_count": 5,
   "metadata": {},
   "outputs": [
    {
     "data": {
      "text/plain": [
       "[11, 12, 13, 14, 15]"
      ]
     },
     "execution_count": 5,
     "metadata": {},
     "output_type": "execute_result"
    }
   ],
   "source": [
    "\n",
    "a"
   ]
  },
  {
   "cell_type": "code",
   "execution_count": 6,
   "metadata": {},
   "outputs": [
    {
     "name": "stdout",
     "output_type": "stream",
     "text": [
      "[11, 12, 13, 14, 15]\n",
      "[16, 17, 18, 19, 20, 21]\n",
      "[21, 22, 23, 24, 25, 26, 27]\n",
      "[26, 27, 28, 29, 30, 31, 32, 33]\n",
      "[31, 32, 33, 34, 35, 36, 37, 38, 39]\n"
     ]
    }
   ],
   "source": [
    "print(a)\n",
    "print(b)\n",
    "print(c)\n",
    "print(d)\n",
    "print(e)"
   ]
  },
  {
   "cell_type": "markdown",
   "metadata": {},
   "source": [
    "This is, however, a lot of work. All of these lines are very similar: they do basically the same, but only a little different. They calculate the length of the list with `len()`, and then use this length in a for-loop, to change the value of each index. Since all the lists have a different number of elements, we need one separate for-loop for each one of them.\n",
    "\n",
    "Now what does this have to do with functions? Functions allow us to write the for-loop only once. The syntax for writing a new function is defined in the following way:\n",
    "\n",
    "```Python\n",
    "def my_new_function(input1, input2, input3):\n",
    "    # do something here. E.g.,\n",
    "    a = input1 + input2 + input3\n",
    "    \n",
    "    # then you return some value\n",
    "    return a\n",
    "```\n",
    "\n",
    "In the example above, `my_new_function` is the name of the new function; and the function receives 3 inputs (`input1`, `input2` and `input3`). Then it does something with the inputs, and returns some value. This value is then the \"output\" of the function. Of course, instead of exactly 3 inputs, the function could receive any number of inputs.\n",
    "\n",
    "Then the function can be called as many times as needed to perform the same action again and again on different inputs. Let's see how this would work in an example:"
   ]
  },
  {
   "cell_type": "code",
   "execution_count": 7,
   "metadata": {},
   "outputs": [
    {
     "name": "stdout",
     "output_type": "stream",
     "text": [
      "[21, 22, 23, 24, 25]\n",
      "[26, 27, 28, 29, 30, 31]\n",
      "[31, 32, 33, 34, 35, 36, 37]\n",
      "[36, 37, 38, 39, 40, 41, 42, 43]\n",
      "[41, 42, 43, 44, 45, 46, 47, 48, 49]\n"
     ]
    }
   ],
   "source": [
    "# Define a new function that does the same as before:\n",
    "# sums 10 to each element of the vector\n",
    "def sum_10(l):\n",
    "    for i in range(len(l)):\n",
    "        l[i] = l[i] + 10\n",
    "    return l\n",
    "\n",
    "# Call the function to each of the values\n",
    "a = sum_10(a)\n",
    "b = sum_10(b)\n",
    "c = sum_10(c)\n",
    "d = sum_10(d)\n",
    "e = sum_10(e)\n",
    "\n",
    "# Print the values again\n",
    "print(a)\n",
    "print(b)\n",
    "print(c)\n",
    "print(d)\n",
    "print(e)"
   ]
  },
  {
   "cell_type": "markdown",
   "metadata": {},
   "source": [
    "To make the code even better, you might want to put those calls into a for-loop:"
   ]
  },
  {
   "cell_type": "code",
   "execution_count": 20,
   "metadata": {},
   "outputs": [
    {
     "name": "stdout",
     "output_type": "stream",
     "text": [
      "[[21, 22, 23, 24, 25], [26, 27, 28, 29, 30, 31], [31, 32, 33, 34, 35, 36, 37], [36, 37, 38, 39, 40, 41, 42, 43], [41, 42, 43, 44, 45, 46, 47, 48, 49]]\n"
     ]
    }
   ],
   "source": [
    "# Creates a new list containing all the lists\n",
    "lists = [a,b,c,d,e]\n",
    "print(lists)"
   ]
  },
  {
   "cell_type": "code",
   "execution_count": 21,
   "metadata": {},
   "outputs": [
    {
     "name": "stdout",
     "output_type": "stream",
     "text": [
      "[31, 32, 33, 34, 35]\n",
      "[36, 37, 38, 39, 40, 41]\n",
      "[41, 42, 43, 44, 45, 46, 47]\n",
      "[46, 47, 48, 49, 50, 51, 52, 53]\n",
      "[51, 52, 53, 54, 55, 56, 57, 58, 59]\n"
     ]
    }
   ],
   "source": [
    "for idx, i in enumerate(lists):\n",
    "    # Calls the function\n",
    "    lists[idx] = sum_10(i)\n",
    "    \n",
    "    # Prints the value again\n",
    "    print(i)"
   ]
  },
  {
   "cell_type": "markdown",
   "metadata": {},
   "source": [
    "**Exercise**\n",
    "\n",
    "Write a function that returns the sum of all elements inside a list."
   ]
  },
  {
   "cell_type": "markdown",
   "metadata": {},
   "source": [
    "## Manipulating Strings\n",
    "\n",
    "Python provides a lot of functions that can be used to manipulate strings. The table below has some of the functions you can use to either query information about the string, or modify it somehow:"
   ]
  },
  {
   "cell_type": "markdown",
   "metadata": {},
   "source": [
    "| Method | is True if   |\n",
    "|-|-|\n",
    "|   str.isalnum()  | String consists of only alphanumeric characters (no symbols)|\n",
    "|str.isalpha()\t|String consists of only alphabetic characters (no symbols)|\n",
    "|str.islower()\t|String’s alphabetic characters are all lower case|\n",
    "|str.isnumeric()\t|String consists of only numeric characters|\n",
    "|str.isspace()\t|String consists of only whitespace characters|\n",
    "|str.istitle()\t|String is in title case|\n",
    "|str.isupper()\t|String’s alphabetic characters are all upper case|\n",
    "|str.upper()|Converts all characters to uppercase|\n",
    "|str.lower()|Converts all characters to lowercase|\n",
    "|str.join()|Concatenation of two strings, a way that passes one string through another|  \n",
    "|str.split()|Splitting a string|\n",
    "|str.replace()|Replacing a group of characters in a string with another characters|"
   ]
  },
  {
   "cell_type": "markdown",
   "metadata": {},
   "source": [
    "So far, every time we wanted to call a function, we would write the name of the function (e.g., `my_function()`), and pass a certain input to the function (i.e., `my_function(input)`). The function we are seeing above, however, follow a slightly different syntax. They are so-called \"methods\" of the `string` class, and are normally accessed using the `.` operator. For example:"
   ]
  },
  {
   "cell_type": "code",
   "execution_count": 79,
   "metadata": {},
   "outputs": [
    {
     "data": {
      "text/plain": [
       "'HELLO WORLD'"
      ]
     },
     "execution_count": 79,
     "metadata": {},
     "output_type": "execute_result"
    }
   ],
   "source": [
    "# `upper` makes all the characters of a string capital\n",
    "\"hello world\".upper()"
   ]
  },
  {
   "cell_type": "code",
   "execution_count": 22,
   "metadata": {},
   "outputs": [
    {
     "data": {
      "text/plain": [
       "['Say', 'HELLO', 'to', 'the', 'WORLD']"
      ]
     },
     "execution_count": 22,
     "metadata": {},
     "output_type": "execute_result"
    }
   ],
   "source": [
    "# `split` divides the string wherever it finds a space character, and then returns\n",
    "# a list of the strings resulting from the division\n",
    "\"Say HELLO to the WORLD\".split()"
   ]
  },
  {
   "cell_type": "code",
   "execution_count": 81,
   "metadata": {},
   "outputs": [
    {
     "data": {
      "text/plain": [
       "['I like c', 'onut']"
      ]
     },
     "execution_count": 81,
     "metadata": {},
     "output_type": "execute_result"
    }
   ],
   "source": [
    "# You can also pass a list of characters that you want `split` to use to divide\n",
    "# the string\n",
    "\"I like coconut\".split(\"oc\")"
   ]
  },
  {
   "cell_type": "code",
   "execution_count": 24,
   "metadata": {},
   "outputs": [
    {
     "data": {
      "text/plain": [
       "'What does the fox say?'"
      ]
     },
     "execution_count": 24,
     "metadata": {},
     "output_type": "execute_result"
    }
   ],
   "source": [
    "# Of course, you can do the same with variables...\n",
    "a = \"What does the ox say?\"\n",
    "a.replace('ox', 'fox')"
   ]
  },
  {
   "cell_type": "code",
   "execution_count": 25,
   "metadata": {},
   "outputs": [
    {
     "data": {
      "text/plain": [
       "'What does the fox say?'"
      ]
     },
     "execution_count": 25,
     "metadata": {},
     "output_type": "execute_result"
    }
   ],
   "source": [
    "# Notice that these don't change the original string\n",
    "a = a.replace('ox', 'fox')\n",
    "a"
   ]
  },
  {
   "cell_type": "markdown",
   "metadata": {},
   "source": [
    "## Advanced Lists\n",
    "\n",
    "Lists are very versatile and you might want to do many many other things with lists, such as\n",
    "\n",
    " * Deleting elements from a list\n",
    " * Adding elements to the end of a list\n",
    " * Finding the intersection between two lists\n",
    " * Getting all elements in a list that are not in another list\n",
    " * Deleting repeting elements in a list\n",
    " * ...\n",
    " \n",
    "You should be able to find several solutions to all of these problems (and more!) in Google.\n",
    "\n",
    "By chance, while writing this text, I found the following link, that has some other interesting functionalities of lists that you might find interesting:\n",
    "\n",
    "https://www.programiz.com/python-programming/list"
   ]
  },
  {
   "cell_type": "markdown",
   "metadata": {},
   "source": [
    "The table below, however, has a short list of very useful and commonly used functions your can use with lists. Again, you have to use the `.` operator to be able to call them. E.g., you'd write things like:\n",
    "\n",
    "```Python\n",
    "a = [1,2,3]\n",
    "a.append(4)\n",
    "```"
   ]
  },
  {
   "cell_type": "markdown",
   "metadata": {},
   "source": [
    "| Method | Function |\n",
    "|-|-|\n",
    "|list.append(obj)|Add an item to the end of the list. Equivalent to a[len(a):] = [x].|  \n",
    "|list.count(obj)|Return the number of times x appears in the list.|  \n",
    "|list.extend(seq)|Extend the list by appending all the items from the iterable.|\n",
    "|list.index(obj)|Return zero-based index in the list of the first item whose value is x. Raises a ValueError if there is no such item. (The optional arguments start and end are interpreted as in the slice notation and are used to limit the search to a particular subsequence of the list. The returned index is computed relative to the beginning of the full sequence rather than the start argument.)|\n",
    "|list.insert(obj)|Insert an item at a given position. The first argument is the index of the element before which to insert, so a.insert(0, x) inserts at the front of the list, and a.insert(len(a), x) is equivalent to a.append(x). |\n",
    "|list.remove(obj)|Remove the first item from the list whose value is x. It is an error if there is no such item.|\n",
    "|list.reverse(obj)|Reverse the elements of the list in place.|\n",
    "|list.sort(obj)|Sort the items of the list in place (the arguments can be used for sort customization, see sorted() for their explanation).|"
   ]
  },
  {
   "cell_type": "markdown",
   "metadata": {},
   "source": [
    "## Exercises\n",
    "\n",
    "1) Define the variable `blah` as a tuple containing the following elements:\n",
    "   * The integer 1\n",
    "   * The string \"blah\"\n",
    "   * A list containing the string \"other blah\" and the number 2\n",
    "   \n",
    "2) Convert it into a list\n",
    "\n",
    "3) Try inserting a new element at the end of this list. Does it raise an error? If it does, search the internet for how you would insert a new element.\n",
    "\n",
    "4) Remove the string \"blah\" from the list\n",
    "\n",
    "5) Define a new function that receives two list and returns one list containing all the elements of both lists\n",
    "\n",
    "6) Call this function with you list `blah` and a list containing the numbers 3 and 4\n",
    "\n",
    "7) Write an if-statement that checks if `blah` has a length bigger than 6; and if it has print \"is long\" in the screen\n",
    "\n",
    "8) Write a function that receives two numbers and returns either \"smaller\" if the first number is smaller than second; or \"bigger\" if the first number is bigger than the second\n",
    "\n",
    "9) Write a for-loop to print each element of your list `blah`\n"
   ]
  },
  {
   "cell_type": "markdown",
   "metadata": {},
   "source": [
    "## A few tricks\n",
    "\n",
    "### String formatting\n",
    "\n",
    "Suppose you want to print a string in the screen, but you want your string to change according to the value of a certain variable. This is an operation that happens so often that most programming languages normally have special syntax only for it. In Python, you can insert a `{}` at any part of you string. Then you call the `.format()` method onto the string and pass any variable to it.\n",
    "\n",
    "For example..."
   ]
  },
  {
   "cell_type": "code",
   "execution_count": 1,
   "metadata": {},
   "outputs": [
    {
     "name": "stdout",
     "output_type": "stream",
     "text": [
      "I want a coffee right now\n",
      "I want a tea right now\n",
      "I want a whisky right now\n"
     ]
    }
   ],
   "source": [
    "# Create a new variable\n",
    "my_string = 'I want a {} right now'\n",
    "\n",
    "# Print things, replacing the {} with something else\n",
    "print(my_string.format('coffee'))\n",
    "print(my_string.format('tea'))\n",
    "print(my_string.format('whisky'))"
   ]
  },
  {
   "cell_type": "code",
   "execution_count": 2,
   "metadata": {},
   "outputs": [
    {
     "name": "stdout",
     "output_type": "stream",
     "text": [
      "The boy gives a book to the mother\n",
      "The teacher gives a talk to the audience\n"
     ]
    }
   ],
   "source": [
    "# Your string can have as many {} as you want. They are associated based on their position\n",
    "my_string = \"The {} gives a {} to the {}\"\n",
    "\n",
    "print(my_string.format('boy', 'book', 'mother'))\n",
    "print(my_string.format('teacher', 'talk', 'audience'))"
   ]
  },
  {
   "cell_type": "markdown",
   "metadata": {},
   "source": [
    "### List comprehensions\n",
    "\n",
    "Lists comprehensions are actually a quite advanced Python trick, and many people take very long to master them. Therefore, you shouldn't feel scared if this ends up seeming a little confusing. Importantly, anything you can do with list comprehensions you can also do with for-loops (though the efficiency of the operations may vary), so you are not really losing much by not using them.\n",
    "\n",
    "However, they are really handy and allow you to write really elegant code sometimes.\n",
    "\n",
    "Let's say you have the following list:"
   ]
  },
  {
   "cell_type": "code",
   "execution_count": 3,
   "metadata": {},
   "outputs": [],
   "source": [
    "a = [0,1,2,3,4,5,6,7,8,9]"
   ]
  },
  {
   "cell_type": "markdown",
   "metadata": {},
   "source": [
    "Now let's say you want to take each element of the list, apply some operation to it, and then inseert it into another list. For example, let's say that the operation is \"multiply by 10\". You could do it the following way:"
   ]
  },
  {
   "cell_type": "code",
   "execution_count": 4,
   "metadata": {},
   "outputs": [
    {
     "name": "stdout",
     "output_type": "stream",
     "text": [
      "[0, 10, 20, 30, 40, 50, 60, 70, 80, 90]\n"
     ]
    }
   ],
   "source": [
    "new_a = []\n",
    "for i in a:\n",
    "    new_a.append(i * 10)\n",
    "\n",
    "print(new_a)"
   ]
  },
  {
   "cell_type": "markdown",
   "metadata": {},
   "source": [
    "The code above takes 3 lines to perform the operation we describe above. Line 1 defines a new list; Line 2 and 3 iterate through the list `a` inserting a new (modified, i.e., multiplied by 10) element into the new list.\n",
    "\n",
    "With list comprehensions, we can do it with only one line:"
   ]
  },
  {
   "cell_type": "code",
   "execution_count": 5,
   "metadata": {},
   "outputs": [
    {
     "name": "stdout",
     "output_type": "stream",
     "text": [
      "[0, 10, 20, 30, 40, 50, 60, 70, 80, 90]\n"
     ]
    }
   ],
   "source": [
    "new_a = [i * 10 for i in a]\n",
    "\n",
    "print(new_a)"
   ]
  },
  {
   "cell_type": "markdown",
   "metadata": {},
   "source": [
    "Of course, the \"operation\" performed this way can be anything. For example, if `a` contained several sentences:"
   ]
  },
  {
   "cell_type": "code",
   "execution_count": 6,
   "metadata": {},
   "outputs": [
    {
     "data": {
      "text/plain": [
       "['the', 'fox', 'jumped']"
      ]
     },
     "execution_count": 6,
     "metadata": {},
     "output_type": "execute_result"
    }
   ],
   "source": [
    "a = [\"The fox jumped\",\n",
    "     \"The dog is lazy\",\n",
    "     \"The fox is quick and brown\"]\n",
    "\n",
    "\"the fox jumped\".split()"
   ]
  },
  {
   "cell_type": "markdown",
   "metadata": {},
   "source": [
    "We could divide the sentences into \"words\" using the function `split()`:"
   ]
  },
  {
   "cell_type": "code",
   "execution_count": 7,
   "metadata": {},
   "outputs": [
    {
     "name": "stdout",
     "output_type": "stream",
     "text": [
      "[['The', 'fox', 'jumped'], ['The', 'dog', 'is', 'lazy'], ['The', 'fox', 'is', 'quick', 'and', 'brown']]\n"
     ]
    }
   ],
   "source": [
    "new_a = [i.split() for i in a]\n",
    "\n",
    "print(new_a)"
   ]
  },
  {
   "cell_type": "markdown",
   "metadata": {},
   "source": [
    "The general syntax for a list comprehension is\n",
    "\n",
    "```Python\n",
    "[expression  for  item  in  list]\n",
    "```\n",
    "\n",
    ", where `list` is the original list, from which you want to create a new, modified list; `expression` is the rule you are trying to apply to each element, and `item` is each the element (to which `expression` is going to be applied before being inserted into the new list)."
   ]
  },
  {
   "cell_type": "markdown",
   "metadata": {},
   "source": [
    "You can also restrict the list comprehension to only include elements that satisfy a certain condition. For example, consider our previous list `a` from before:"
   ]
  },
  {
   "cell_type": "code",
   "execution_count": 8,
   "metadata": {},
   "outputs": [],
   "source": [
    "a = [0,1,2,3,4,5,6,7,8,9]"
   ]
  },
  {
   "cell_type": "markdown",
   "metadata": {},
   "source": [
    "Let's say that we again want to create a `new_a`, but only including the even elements in our list. We could write a for-loop that look like this:"
   ]
  },
  {
   "cell_type": "code",
   "execution_count": 9,
   "metadata": {},
   "outputs": [
    {
     "name": "stdout",
     "output_type": "stream",
     "text": [
      "[0, 20, 40, 60, 80]\n"
     ]
    }
   ],
   "source": [
    "new_a = []\n",
    "for i in a:\n",
    "    if i % 2 == 0:\n",
    "        new_a.append(i * 10)\n",
    "\n",
    "print(new_a)"
   ]
  },
  {
   "cell_type": "markdown",
   "metadata": {},
   "source": [
    "Another much more concise way to write this would be:"
   ]
  },
  {
   "cell_type": "code",
   "execution_count": 10,
   "metadata": {},
   "outputs": [
    {
     "name": "stdout",
     "output_type": "stream",
     "text": [
      "[0, 20, 40, 60, 80]\n"
     ]
    }
   ],
   "source": [
    "# The extra spaces and parenthesis are here only for clarity\n",
    "new_a = [i * 10  for  i  in  a  if (i % 2 == 0)]\n",
    "\n",
    "print(new_a)"
   ]
  },
  {
   "cell_type": "markdown",
   "metadata": {},
   "source": [
    "Thus, now, we can extend our general syntax for list comprehensions to accomodate the condition:\n",
    "\n",
    "```Python\n",
    "[expression  for  item  in  list  if  condition]\n",
    "```\n",
    "\n",
    ", where an element is inserted into the newly created list only if it satisfies `condition`."
   ]
  },
  {
   "cell_type": "markdown",
   "metadata": {},
   "source": [
    "### List access\n",
    "\n",
    "It is probably useful to know that you can access several elements of a list using the `:` operator. An example will probably make it clear:"
   ]
  },
  {
   "cell_type": "code",
   "execution_count": 11,
   "metadata": {},
   "outputs": [
    {
     "data": {
      "text/plain": [
       "5"
      ]
     },
     "execution_count": 11,
     "metadata": {},
     "output_type": "execute_result"
    }
   ],
   "source": [
    "a = [0,1,2,3,4,5,6,7,8,9]\n",
    "\n",
    "# This will return just one element (as you already know)\n",
    "a[5]"
   ]
  },
  {
   "cell_type": "code",
   "execution_count": 12,
   "metadata": {},
   "outputs": [
    {
     "data": {
      "text/plain": [
       "[2, 3, 4, 5, 6, 7]"
      ]
     },
     "execution_count": 12,
     "metadata": {},
     "output_type": "execute_result"
    }
   ],
   "source": [
    "# This will return a list, where:\n",
    "#  * the first element is the element whose index is 2\n",
    "#  * the last element is the element whose index is 7 (i.e., 8-1)\n",
    "#\n",
    "# In other words, you get the \"interval\" [start, end)\n",
    "a[2:8]"
   ]
  },
  {
   "cell_type": "code",
   "execution_count": 13,
   "metadata": {},
   "outputs": [
    {
     "data": {
      "text/plain": [
       "[2, 4, 6]"
      ]
     },
     "execution_count": 13,
     "metadata": {},
     "output_type": "execute_result"
    }
   ],
   "source": [
    "# You can have steps bigger than 1 with a second colon:\n",
    "a[2:8:2]"
   ]
  },
  {
   "cell_type": "code",
   "execution_count": 14,
   "metadata": {},
   "outputs": [
    {
     "data": {
      "text/plain": [
       "[2, 3, 4, 5, 6, 7, 8, 9]"
      ]
     },
     "execution_count": 14,
     "metadata": {},
     "output_type": "execute_result"
    }
   ],
   "source": [
    "# If you don't put anything after the column, Python assumes it goes until the end of the list\n",
    "a[2:]"
   ]
  },
  {
   "cell_type": "code",
   "execution_count": 15,
   "metadata": {},
   "outputs": [
    {
     "data": {
      "text/plain": [
       "[0, 1, 2, 3, 4]"
      ]
     },
     "execution_count": 15,
     "metadata": {},
     "output_type": "execute_result"
    }
   ],
   "source": [
    "# If you leave the other side open, Python assumes it starts from the beginning of the list\n",
    "a[:5]"
   ]
  },
  {
   "cell_type": "markdown",
   "metadata": {},
   "source": [
    "You can also use negative indices to access elements in a reverse order:"
   ]
  },
  {
   "cell_type": "code",
   "execution_count": 16,
   "metadata": {},
   "outputs": [
    {
     "data": {
      "text/plain": [
       "8"
      ]
     },
     "execution_count": 16,
     "metadata": {},
     "output_type": "execute_result"
    }
   ],
   "source": [
    "# This is a common idiom for accessing the last element of a list in Python\n",
    "a[-2]"
   ]
  },
  {
   "cell_type": "markdown",
   "metadata": {},
   "source": [
    "Of course, you can also use the colon operator. Say, for example, you want the last 3 elements of a list:"
   ]
  },
  {
   "cell_type": "code",
   "execution_count": 17,
   "metadata": {},
   "outputs": [
    {
     "data": {
      "text/plain": [
       "[7, 8, 9]"
      ]
     },
     "execution_count": 17,
     "metadata": {},
     "output_type": "execute_result"
    }
   ],
   "source": [
    "a[-3:]"
   ]
  },
  {
   "cell_type": "markdown",
   "metadata": {},
   "source": [
    "Notice that they come in the order of the list, and not in a reverse order."
   ]
  }
 ],
 "metadata": {
  "kernelspec": {
   "display_name": "Python 3",
   "language": "python",
   "name": "python3"
  },
  "language_info": {
   "codemirror_mode": {
    "name": "ipython",
    "version": 3
   },
   "file_extension": ".py",
   "mimetype": "text/x-python",
   "name": "python",
   "nbconvert_exporter": "python",
   "pygments_lexer": "ipython3",
   "version": "3.8.5"
  }
 },
 "nbformat": 4,
 "nbformat_minor": 2
}
